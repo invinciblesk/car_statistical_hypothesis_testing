{
 "cells": [
  {
   "cell_type": "code",
   "execution_count": 23,
   "metadata": {},
   "outputs": [],
   "source": [
    "import pandas as pd\n",
    "import numpy as np\n",
    "import matplotlib.pyplot as plt\n",
    "import seaborn as sns\n",
    "import scipy.stats\n",
    "\n",
    "# Load the CSV file into a DataFrame\n",
    "df_cars = pd.read_csv(r'cars.csv')"
   ]
  },
  {
   "cell_type": "code",
   "execution_count": null,
   "metadata": {},
   "outputs": [],
   "source": [
    "unique_origins = df_cars['origin'].unique()\n",
    "print(unique_origins)\n",
    "\n",
    "# Create a color palette with the same number of colors as there are unique origins\n",
    "# 'hsv' is chosen arbitrarily; many other palettes are available\n",
    "palette = sns.color_palette(\"hsv\", len(unique_origins))\n",
    "\n",
    "# Create a dictionary to map origin to color\n",
    "color_map = dict(zip(unique_origins, palette))\n",
    "\n",
    "# Filtering out non-numerical columns for simplicity\n",
    "numerical_cols = df_cars.select_dtypes(include=['int64', 'float64']).columns\n",
    "\n",
    "# Create scatter plots\n",
    "for col1 in numerical_cols:\n",
    "    for col2 in numerical_cols:\n",
    "        if col1 != col2:\n",
    "            plt.figure(figsize=(10, 6))\n",
    "            sns.scatterplot(data=df_cars, x=col1, y=col2,\n",
    "                            hue='origin', palette=color_map)\n",
    "            plt.title(f'Scatter Plot of {col1} vs {col2} by Origin')\n",
    "            plt.xlabel(col1)\n",
    "            plt.ylabel(col2)\n",
    "            plt.legend(title='Origin')\n",
    "            plt.show()"
   ]
  },
  {
   "cell_type": "markdown",
   "metadata": {},
   "source": [
    "# Part 1\n",
    "- **Question:** How do vehicles from different origins (USA, Germany, Japan) compare in terms of mpg, weight, and horsepower?\n",
    "\n",
    "  - **Null Hypothesis $(H0)$:** There is no significant difference in mpg, weight, and horsepower among vehicles from different origins.\n",
    "  - **Alternate Hypothesis $(H1)$:** There are significant differences in mpg, weight, and horsepower among vehicles from different origins."
   ]
  },
  {
   "cell_type": "code",
   "execution_count": 25,
   "metadata": {},
   "outputs": [
    {
     "name": "stdout",
     "output_type": "stream",
     "text": [
      "origin\n",
      "1    249\n",
      "3     79\n",
      "2     70\n",
      "Name: count, dtype: int64\n"
     ]
    },
    {
     "data": {
      "image/png": "[encoded data removed]",
      "text/plain": [
       "<Figure size 640x480 with 1 Axes>"
      ]
     },
     "metadata": {},
     "output_type": "display_data"
    },
    {
     "data": {
      "image/png": "[encoded data removed]",
      "text/plain": [
       "<Figure size 640x480 with 1 Axes>"
      ]
     },
     "metadata": {},
     "output_type": "display_data"
    },
    {
     "name": "stdout",
     "output_type": "stream",
     "text": [
      "ANOVA for mpg: F_onewayResult(statistic=98.54179491075871, pvalue=1.9154864184128e-35)\n",
      "ANOVA for weight: F_onewayResult(statistic=112.74350468918183, pvalue=1.8332404300161686e-39)\n",
      "ANOVA for horsepower: F_onewayResult(statistic=61.342092972838266, pvalue=6.987300889212185e-24)\n"
     ]
    }
   ],
   "source": [
    "originCounts = df_cars['origin'].value_counts()\n",
    "print(originCounts)\n",
    "originCounts.plot(kind='bar')\n",
    "plt.show()\n",
    "\n",
    "df_cars['mpg'].plot(kind='hist')\n",
    "plt.show()\n",
    "\n",
    "usa = df_cars[df_cars['origin'] == 1]\n",
    "germany = df_cars[df_cars['origin'] == 2]\n",
    "japan = df_cars[df_cars['origin'] == 3]\n",
    "\n",
    "# mpg_test = scipy.stats.f_oneway(usa['mpg'], germany['mpg'], japan['mpg'])\n",
    "# weight_test = scipy.stats.f_oneway(usa['weight'], germany['weight'], japan['weight'])\n",
    "# horsepower_test = scipy.stats.f_oneway(\n",
    "#     usa['horsepower'], germany['horsepower'], japan['horsepower']).dropna()\n",
    "\n",
    "# print(df_cars.dtypes())\n",
    "# # print(f'mpg = {mpg_test}, weight = {weight_test}, ')\n",
    "\n",
    "# Ensure 'mpg', 'weight', and 'horsepower' are numeric\n",
    "df_cars['mpg'] = pd.to_numeric(df_cars['mpg'], errors='coerce')\n",
    "df_cars['weight'] = pd.to_numeric(df_cars['weight'], errors='coerce')\n",
    "df_cars['horsepower'] = pd.to_numeric(df_cars['horsepower'], errors='coerce')\n",
    "\n",
    "# Group data by 'origin'\n",
    "groups = df_cars.groupby('origin')\n",
    "\n",
    "# Perform ANOVA for each variable\n",
    "anova_mpg = scipy.stats.f_oneway(*[group[\"mpg\"].dropna() for name, group in groups])\n",
    "anova_weight = scipy.stats.f_oneway(*[group[\"weight\"].dropna() for name, group in groups])\n",
    "anova_horsepower = scipy.stats.f_oneway(*[group[\"horsepower\"].dropna() for name, group in groups])\n",
    "\n",
    "# Print ANOVA results\n",
    "print(\"ANOVA for mpg:\", anova_mpg)\n",
    "print(\"ANOVA for weight:\", anova_weight)\n",
    "print(\"ANOVA for horsepower:\", anova_horsepower)\n",
    "\n"
   ]
  },
  {
   "cell_type": "markdown",
   "metadata": {},
   "source": [
    "# Part 2\n",
    "\n",
    "- **Question:** Are vehicles from Japan generally more fuel-efficient compared to those from the USA?\n",
    "\n",
    "  - **Null Hypothesis $(H0)$:** Vehicles from Japan are not significantly more fuel-efficient compared to those from the USA.\n",
    "  - **Alternate Hypothesis $(H1)$:** Vehicles from Japan are significantly more fuel-efficient compared to those from the USA."
   ]
  },
  {
   "cell_type": "markdown",
   "metadata": {},
   "source": []
  }
 ],
 "metadata": {
  "kernelspec": {
   "display_name": "base",
   "language": "python",
   "name": "python3"
  },
  "language_info": {
   "codemirror_mode": {
    "name": "ipython",
    "version": 3
   },
   "file_extension": ".py",
   "mimetype": "text/x-python",
   "name": "python",
   "nbconvert_exporter": "python",
   "pygments_lexer": "ipython3",
   "version": "3.11.7"
  }
 },
 "nbformat": 4,
 "nbformat_minor": 2
}
